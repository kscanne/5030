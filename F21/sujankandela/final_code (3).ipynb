{
 "cells": [
  {
   "cell_type": "code",
   "execution_count": 44,
   "id": "102fd772",
   "metadata": {},
   "outputs": [
    {
     "data": {
      "text/plain": [
       "'n-óg'"
      ]
     },
     "execution_count": 44,
     "metadata": {},
     "output_type": "execute_result"
    }
   ],
   "source": [
    "def lower(word,language):\n",
    "    if language == 'en-US':\n",
    "        return word.lower()\n",
    "    elif language == 'en':\n",
    "        return word.lower()\n",
    "    elif language == 'en-IE':\n",
    "        return word.lower()\n",
    "    elif language == 'en-Latn':\n",
    "        return word.lower()\n",
    "    elif language == 'ga':\n",
    "        if word[0] != word[0].upper():\n",
    "            return (word[0] + '-' + word[1:]).lower()\n",
    "        return word.lower()\n",
    "    elif language == 'ga-IE':\n",
    "        if word[1] == '\\u00D5':\n",
    "            return word.lower()\n",
    "        return (word[0] + '-' + word[1:]).lower()\n",
    "    elif language == 'tr':\n",
    "        word = word.replace('\\u0049','\\u0131')\n",
    "        return word.lower()\n",
    "    elif language == 'el':\n",
    "        return word.lower()\n",
    "    elif language == 'th':\n",
    "        return word.lower()\n",
    "    elif language == 'zh-Hans':\n",
    "        return word.lower()\n",
    "        \n",
    "lower('nÓg','ga-IE')"
   ]
  },
  {
   "cell_type": "code",
   "execution_count": 43,
   "id": "f3a5a30d",
   "metadata": {},
   "outputs": [
    {
     "name": "stdout",
     "output_type": "stream",
     "text": [
      "hello\n",
      "world\n",
      "camel\n",
      "---ok\n",
      "t-acht\n",
      "t-acht\n",
      "tacht\n",
      "n-athair\n",
      "n-athair\n",
      "nathair\n",
      "n-óg\n",
      "nõg\n",
      "n-õg\n",
      "kasim\n",
      "kasim\n",
      "πόλης\n",
      "官话\n",
      "ภาษาไทย\n",
      "world\n"
     ]
    }
   ],
   "source": [
    "class lower:\n",
    "    def __init__(self,word,language):\n",
    "        self.w = word\n",
    "        self.l = language\n",
    "    def setlower(self):\n",
    "        if self.l == 'en-US':\n",
    "            return self.w.lower()\n",
    "        elif self.l == 'en':\n",
    "            return self.w.lower()\n",
    "        elif self.l == 'en-IE':\n",
    "            return self.w.lower()\n",
    "        elif self.l == 'en-Latn':\n",
    "            return self.w.lower()\n",
    "        elif self.l == 'ga':\n",
    "            if self.w[0] != self.w[0].upper():\n",
    "                return (self.w[0] + '-' + self.w[1:]).lower()\n",
    "            return self.w.lower()\n",
    "        elif self.l == 'ga-IE':\n",
    "            if self.w[1] == '\\u00D5':\n",
    "                return self.w.lower()\n",
    "            return (self.w[0] + '-' + self.w[1:]).lower()\n",
    "        elif self.l == 'tr':\n",
    "            word = self.w.replace('\\u0049','\\u0131')\n",
    "            return self.w.lower()\n",
    "        elif self.l == 'el':\n",
    "            return self.w.lower()\n",
    "        elif self.l == 'th':\n",
    "            return self.w.lower()\n",
    "        elif self.l == 'zh-Hans':\n",
    "            return self.w.lower()\n",
    "        \n",
    "            \n",
    "if __name__ == '__main__':\n",
    "    with open('tests.tsv',encoding='utf-8') as file:\n",
    "        for line in file:\n",
    "            pieces = line.split('\\t')\n",
    "            w = lower(pieces[0],pieces[1])\n",
    "            print(w.setlower())\n",
    "            \n",
    "    a = lower('WORLD','en-US')\n",
    "    print(a.setlower())"
   ]
  },
  {
   "cell_type": "code",
   "execution_count": null,
   "id": "50e68843",
   "metadata": {},
   "outputs": [],
   "source": []
  },
  {
   "cell_type": "code",
   "execution_count": null,
   "id": "1fefbb26",
   "metadata": {},
   "outputs": [],
   "source": []
  },
  {
   "cell_type": "code",
   "execution_count": null,
   "id": "b429d372",
   "metadata": {},
   "outputs": [],
   "source": []
  },
  {
   "cell_type": "code",
   "execution_count": null,
   "id": "4e24ba9d",
   "metadata": {},
   "outputs": [],
   "source": []
  },
  {
   "cell_type": "code",
   "execution_count": null,
   "id": "7d6c3e0e",
   "metadata": {},
   "outputs": [],
   "source": []
  }
 ],
 "metadata": {
  "kernelspec": {
   "display_name": "Python 3",
   "language": "python",
   "name": "python3"
  },
  "language_info": {
   "codemirror_mode": {
    "name": "ipython",
    "version": 3
   },
   "file_extension": ".py",
   "mimetype": "text/x-python",
   "name": "python",
   "nbconvert_exporter": "python",
   "pygments_lexer": "ipython3",
   "version": "3.8.8"
  }
 },
 "nbformat": 4,
 "nbformat_minor": 5
}
